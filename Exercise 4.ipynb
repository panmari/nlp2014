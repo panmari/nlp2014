{
 "metadata": {
  "name": "Exercise 4"
 },
 "nbformat": 3,
 "nbformat_minor": 0,
 "worksheets": [
  {
   "cells": [
    {
     "cell_type": "markdown",
     "metadata": {},
     "source": [
      "#Task 1\n",
      "\n",
      "$$ f(\\text{Agatha}) = 30$$\n",
      "$$ f(\\text{Christie}) = 117$$\n",
      "$$ f(\\text{Agatha Christie}) = 20$$\n",
      "\n",
      "with \n",
      "\n",
      "$$ p(a) = \\frac{f(a)}{n}$$.\n",
      "\n",
      "We can compute the probability of \"Agatha Christie\" appearing under the null hypothesis (\"Agatha\" and \"Christie\" are independent) as\n",
      "\n",
      "$$ p_{ac} = p(\\text{Agatha}) \\cdot p(\\text{Christie}) $$\n",
      "\n",
      "This is very easy to implement in python:"
     ]
    },
    {
     "cell_type": "code",
     "collapsed": false,
     "input": [
      "n = 1000000\n",
      "f_christie = 117\n",
      "f_agatha = 30\n",
      "\n",
      "p_christie = f_christie/n\n",
      "p_agatha = f_agatha/n\n",
      "p_ac = p_agatha * p_christie\n",
      "print(\"p_ac = {}\".format(p_ac))"
     ],
     "language": "python",
     "metadata": {},
     "outputs": [
      {
       "output_type": "stream",
       "stream": "stdout",
       "text": [
        "p_ac = 3.51e-09\n"
       ]
      }
     ],
     "prompt_number": 23
    },
    {
     "cell_type": "markdown",
     "metadata": {},
     "source": [
      "We want now to apply a t-test to find out, if the null hypothesis is met. For this we model this as a Bernoulli process with\n",
      "\n",
      "$$ \\mu = p(\\text{Agatha Christie}) = \\frac{20}{n}$$\n",
      "$$ \\sigma^2 = p(\\text{Agatha Christie})\\cdot(1 - p(\\text{Agatha Christie})) \\approx p(\\text{Agatha Christie})$$\n",
      "\n",
      "And compute then the t value we observed\n",
      "\n",
      "$$ t_{obs} = \\frac{\\overline{x} - \\mu}{\\sqrt{\\frac{\\sigma^2}{n}}} =\n",
      "\\frac{p_{ac} - \\mu}{\\sqrt{\\frac{\\sigma^2}{n}}} $$.\n",
      "\n",
      "Again this can be easily realized for our example in python"
     ]
    },
    {
     "cell_type": "code",
     "collapsed": false,
     "input": [
      "from math import sqrt\n",
      "\n",
      "f_agatha_christie = 20\n",
      "p_agatha_christie = f_agatha_christie/n\n",
      "mu = p_ac\n",
      "sigma2 = p_ac*(1 - p_ac)\n",
      "\n",
      "t_obs = (p_agatha_christie - mu)/sqrt(sigma2/n)\n",
      "print(t_obs)"
     ],
     "language": "python",
     "metadata": {},
     "outputs": [
      {
       "output_type": "stream",
       "stream": "stdout",
       "text": [
        "337.520544367263\n"
       ]
      }
     ],
     "prompt_number": 24
    },
    {
     "cell_type": "code",
     "collapsed": false,
     "input": [],
     "language": "python",
     "metadata": {},
     "outputs": [
      {
       "output_type": "pyout",
       "prompt_number": 16,
       "text": [
        "1.6878989451394442e-07"
       ]
      }
     ],
     "prompt_number": 16
    },
    {
     "cell_type": "code",
     "collapsed": false,
     "input": [],
     "language": "python",
     "metadata": {},
     "outputs": []
    }
   ],
   "metadata": {}
  }
 ]
}