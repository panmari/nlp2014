{
 "metadata": {
  "name": ""
 },
 "nbformat": 3,
 "nbformat_minor": 0,
 "worksheets": [
  {
   "cells": [
    {
     "cell_type": "markdown",
     "metadata": {},
     "source": [
      "#Task 1\n",
      "\n",
      "$$ f(\\text{Agatha}) = 30$$\n",
      "$$ f(\\text{Christie}) = 117$$\n",
      "$$ f(\\text{Agatha Christie}) = 20$$\n",
      "\n",
      "with \n",
      "\n",
      "$$ p(a) = \\frac{f(a)}{n}$$.\n",
      "\n",
      "We can compute the probability of \"Agatha Christie\" appearing under the null hypothesis (\"Agatha\" and \"Christie\" are independent) as\n",
      "\n",
      "$$ p_{ac} = p(\\text{Agatha}) \\cdot p(\\text{Christie}) $$\n",
      "\n",
      "This is very easy to implement in python:"
     ]
    },
    {
     "cell_type": "code",
     "collapsed": false,
     "input": [
      "n = 1000000 # one million words\n",
      "f_christie = 117\n",
      "f_agatha = 30\n",
      "\n",
      "p_christie = f_christie/n\n",
      "p_agatha = f_agatha/n\n",
      "p_ac = p_agatha * p_christie\n",
      "print(\"p_ac = {}\".format(p_ac))"
     ],
     "language": "python",
     "metadata": {},
     "outputs": [
      {
       "output_type": "stream",
       "stream": "stdout",
       "text": [
        "p_ac = 3.51e-09\n"
       ]
      }
     ],
     "prompt_number": 2
    },
    {
     "cell_type": "markdown",
     "metadata": {},
     "source": [
      "We want now to apply a t-test to find out, if the null hypothesis is met. For this we model this as a Bernoulli process with\n",
      "\n",
      "$$ \\mu = p_{ac}$$\n",
      "$$ \\bar{x} = p(\\text{Agatha Christie}) = \\frac{20}{n} $$\n",
      "$$ \\sigma^2 = p(\\text{Agatha Christie})\\cdot(1 - p(\\text{Agatha Christie})) \\approx p(\\text{Agatha Christie})$$\n",
      "\n",
      "And compute then the t value we observed\n",
      "\n",
      "$$ t_{obs} = \\frac{\\overline{x} - \\mu}{\\sqrt{\\frac{\\sigma^2}{n}}} = \\frac{\\overline{x} - \\mu}{\\sqrt{\\sigma^2}} \\cdot \\sqrt{n}$$.\n",
      "\n",
      "Again this can be easily realized for our example in python"
     ]
    },
    {
     "cell_type": "code",
     "collapsed": false,
     "input": [
      "from math import sqrt\n",
      "\n",
      "f_agatha_christie = 20\n",
      "p_agatha_christie = f_agatha_christie/n\n",
      "print(\"x_bar = {}\".format(p_agatha_christie))\n",
      "\n",
      "mu = p_ac\n",
      "sigma2 = p_agatha_christie*(1 - p_agatha_christie)\n",
      "\n",
      "t_obs = (p_agatha_christie - mu)/sqrt(sigma2)*sqrt(n)\n",
      "print(\"t_obs = {}\".format(t_obs))"
     ],
     "language": "python",
     "metadata": {},
     "outputs": [
      {
       "output_type": "stream",
       "stream": "stdout",
       "text": [
        "x_bar = 2e-05\n",
        "t_obs = 4.471395809321142\n"
       ]
      }
     ],
     "prompt_number": 3
    },
    {
     "cell_type": "markdown",
     "metadata": {},
     "source": [
      "We then compare this value to the t-test distribution for with \n",
      "\n",
      "$$ \\text{dof} = n \\approx \\infty $$\n",
      "\n",
      "for a certainty of 99%:"
     ]
    },
    {
     "cell_type": "code",
     "collapsed": false,
     "input": [
      "t_obs < 2.576"
     ],
     "language": "python",
     "metadata": {},
     "outputs": [
      {
       "metadata": {},
       "output_type": "pyout",
       "prompt_number": 4,
       "text": [
        "False"
       ]
      }
     ],
     "prompt_number": 4
    },
    {
     "cell_type": "markdown",
     "metadata": {},
     "source": [
      "So we come to the conclusion, that \"Agatha Christie\" appears more in the text than just by random occurences.\n",
      "For Task b) adapt the numbers in the following way:"
     ]
    },
    {
     "cell_type": "code",
     "collapsed": false,
     "input": [
      "f_christie = 200\n",
      "f_agatha = 300\n",
      "\n",
      "p_christie = f_christie/n\n",
      "p_agatha = f_agatha/n\n",
      "p_ac = p_agatha * p_christie\n",
      "print(\"p_ac = {}\".format(p_ac))\n",
      "\n",
      "from math import sqrt\n",
      "\n",
      "f_agatha_christie = 6\n",
      "p_agatha_christie = f_agatha_christie/n\n",
      "print(\"x_bar = {}\".format(p_agatha_christie))\n",
      "\n",
      "mu = p_ac\n",
      "sigma2 = p_agatha_christie*(1 - p_agatha_christie)\n",
      "\n",
      "t_obs = (p_agatha_christie - mu)/sqrt(sigma2)*sqrt(n)\n",
      "print(\"t_obs = {}\".format(t_obs))"
     ],
     "language": "python",
     "metadata": {},
     "outputs": [
      {
       "output_type": "stream",
       "stream": "stdout",
       "text": [
        "p_ac = 6e-08\n",
        "x_bar = 6e-06\n",
        "t_obs = 2.4250021203726195\n"
       ]
      }
     ],
     "prompt_number": 5
    },
    {
     "cell_type": "markdown",
     "metadata": {},
     "source": [
      "And again compare it to the same bound as before:"
     ]
    },
    {
     "cell_type": "code",
     "collapsed": false,
     "input": [
      "t_obs < 2.576"
     ],
     "language": "python",
     "metadata": {},
     "outputs": [
      {
       "metadata": {},
       "output_type": "pyout",
       "prompt_number": 6,
       "text": [
        "True"
       ]
      }
     ],
     "prompt_number": 6
    },
    {
     "cell_type": "markdown",
     "metadata": {},
     "source": [
      "And come to the conclusion that it may very well possible that the \"Agatha Christie\" we found are only random occurences and the two terms are most likely not related."
     ]
    },
    {
     "cell_type": "markdown",
     "metadata": {},
     "source": [
      "# Task 2\n",
      "Make a chi-square test based on the observations in table a:"
     ]
    },
    {
     "cell_type": "code",
     "collapsed": false,
     "input": [
      "n_woman = 20000\n",
      "n_all = 60000\n",
      "n_not_woman = 40000\n",
      "\n",
      "# As tuples, observed value to the left, expected to the right\n",
      "# first column\n",
      "n_woman_you = (350, 1000/n_all*n_woman)\n",
      "n_woman_not_you = (19650, 59000/n_all*n_woman)\n",
      "\n",
      "# second column\n",
      "n_not_woman_you = (650, 1000/n_all*n_not_woman)\n",
      "n_not_woman_not_you = (39350, 59000/n_all*n_not_woman)\n",
      "\n",
      "def make_summand(tupel):\n",
      "    return (tupel[0] - tupel[1])**2/tupel[1]\n",
      "\n",
      "chi2a = make_summand(n_woman_you) + make_summand(n_woman_not_you) + make_summand(n_not_woman_you) + make_summand(n_not_woman_not_you)\n",
      "print(\"chi square = {}\".format(chi2a))"
     ],
     "language": "python",
     "metadata": {},
     "outputs": [
      {
       "output_type": "stream",
       "stream": "stdout",
       "text": [
        "chi square = 1.2711864406779663\n"
       ]
      }
     ],
     "prompt_number": 7
    },
    {
     "cell_type": "markdown",
     "metadata": {},
     "source": [
      "We then  compare this value with the value found for 1 degree of freedom and 99% certainty:"
     ]
    },
    {
     "cell_type": "code",
     "collapsed": false,
     "input": [
      "chi2a < 6.6353"
     ],
     "language": "python",
     "metadata": {},
     "outputs": [
      {
       "metadata": {},
       "output_type": "pyout",
       "prompt_number": 8,
       "text": [
        "True"
       ]
      }
     ],
     "prompt_number": 8
    },
    {
     "cell_type": "markdown",
     "metadata": {},
     "source": [
      "And come to the conclusion that there is no correlation. For task b) we do the same with different numbers:"
     ]
    },
    {
     "cell_type": "code",
     "collapsed": false,
     "input": [
      "# first column\n",
      "n_woman_I = (450, 1000/n_all*n_woman)\n",
      "n_woman_not_I = (19550, 59000/n_all*n_woman)\n",
      "\n",
      "# second column\n",
      "n_not_woman_I = (550, 1000/n_all*n_not_woman)\n",
      "n_not_woman_not_I = (39450, 59000/n_all*n_not_woman)\n",
      "\n",
      "chi2b = make_summand(n_woman_I) + make_summand(n_woman_not_I) + make_summand(n_not_woman_I) + make_summand(n_not_woman_not_I)\n",
      "print(\"chi square = {}\".format(chi2b))"
     ],
     "language": "python",
     "metadata": {},
     "outputs": [
      {
       "output_type": "stream",
       "stream": "stdout",
       "text": [
        "chi square = 62.288135593220346\n"
       ]
      }
     ],
     "prompt_number": 9
    },
    {
     "cell_type": "markdown",
     "metadata": {},
     "source": [
      "And make again the comparison with our bound:"
     ]
    },
    {
     "cell_type": "code",
     "collapsed": false,
     "input": [
      "chi2b < 6.635"
     ],
     "language": "python",
     "metadata": {},
     "outputs": [
      {
       "metadata": {},
       "output_type": "pyout",
       "prompt_number": 10,
       "text": [
        "False"
       ]
      }
     ],
     "prompt_number": 10
    },
    {
     "cell_type": "markdown",
     "metadata": {},
     "source": [
      "And come the conclusion that there is some correlation."
     ]
    },
    {
     "cell_type": "markdown",
     "metadata": {},
     "source": [
      "# Task 3\n",
      "For this task we first parse the file and find all tokens and their respective frequency"
     ]
    },
    {
     "cell_type": "code",
     "collapsed": false,
     "input": [
      "from collections import Counter\n",
      "import re\n",
      "\n",
      "with open('input_ex3.txt', encoding='iso-8859-15') as f:\n",
      "    # split() method splits on any whitespace by default\n",
      "    arry = f.read().split()\n",
      "    arry = list(filter(lambda x: not re.match(r'[<>\\d]+', x), arry))\n",
      "\n",
      "counter = Counter()\n",
      "n_words = 0\n",
      "for i in arry:\n",
      "    # remove trailing dots\n",
      "    if i[-1] == '.':\n",
      "        i = i[0:-1]\n",
      "    counter[i] += 1\n",
      "    n_words += 1\n",
      "\n",
      "n_types = len(counter)\n",
      "most_common = counter.most_common(100)\n",
      "print('Found {} words and {} types. The 100 most common are:'.format(n_words, n_types))\n",
      "print(most_common)"
     ],
     "language": "python",
     "metadata": {},
     "outputs": [
      {
       "output_type": "stream",
       "stream": "stdout",
       "text": [
        "Found 192046 words and 14079 types. The 100 most common are:\n",
        "[('the', 16569), ('of', 11796), ('to', 6840), ('and', 4876), ('in', 4130), ('a', 3826), ('be', 3748), ('that', 2677), ('is', 1970), ('which', 1961), ('it', 1884), ('by', 1710), ('as', 1596), ('The', 1266), ('have', 1215), ('would', 1206), ('or', 1191), ('for', 1187), ('will', 1178), ('not', 1151), ('this', 1107), ('their', 1078), ('with', 1011), ('from', 1004), ('are', 981), ('on', 907), ('an', 885), ('they', 786), ('been', 786), ('may', 778), ('all', 646), ('its', 624), ('has', 577), ('more', 569), ('State', 561), ('at', 552), ('other', 550), ('than', 549), ('government', 544), ('any', 538), ('It', 495), ('power', 488), ('States', 488), ('one', 475), ('no', 449), ('can', 447), ('those', 447), ('them', 431), ('but', 428), ('must', 427), ('we', 396), ('most', 389), ('who', 384), ('such', 384), ('so', 374), ('upon', 371), ('these', 369), ('I', 367), ('his', 359), ('people', 348), ('there', 344), ('same', 337), ('if', 336), ('against', 328), ('should', 327), ('was', 322), ('every', 320), ('national', 314), ('might', 305), ('federal', 303), ('In', 303), ('under', 301), ('our', 299), ('into', 296), ('only', 279), ('public', 273), ('were', 265), ('had', 261), ('But', 256), ('States,', 256), ('ought', 254), ('some', 246), ('between', 244), ('general', 243), ('authority', 238), ('great', 238), ('shall', 234), ('could', 232), ('This', 229), ('less', 228), ('New', 225), ('each', 220), ('government,', 217), ('Constitution', 204), ('part', 204), ('different', 202), ('United', 200), ('particular', 198), ('two', 195), ('well', 193)]\n"
       ]
      }
     ],
     "prompt_number": 11
    },
    {
     "cell_type": "markdown",
     "metadata": {},
     "source": [
      "Next, we compute z_k for the 100 most common terms"
     ]
    },
    {
     "cell_type": "code",
     "collapsed": false,
     "input": [
      "c = 1\n",
      "\n",
      "z_ks = [c*freq/(rank+1) for  rank, (word, freq) in enumerate(most_common)]\n",
      "print(z_ks)"
     ],
     "language": "python",
     "metadata": {},
     "outputs": [
      {
       "output_type": "stream",
       "stream": "stdout",
       "text": [
        "[16569.0, 5898.0, 2280.0, 1219.0, 826.0, 637.6666666666666, 535.4285714285714, 334.625, 218.88888888888889, 196.1, 171.27272727272728, 142.5, 122.76923076923077, 90.42857142857143, 81.0, 75.375, 70.05882352941177, 65.94444444444444, 62.0, 57.55, 52.714285714285715, 49.0, 43.95652173913044, 41.833333333333336, 39.24, 34.88461538461539, 32.77777777777778, 28.071428571428573, 27.103448275862068, 25.933333333333334, 20.838709677419356, 19.5, 17.484848484848484, 16.735294117647058, 16.02857142857143, 15.333333333333334, 14.864864864864865, 14.447368421052632, 13.948717948717949, 13.45, 12.073170731707316, 11.619047619047619, 11.348837209302326, 10.795454545454545, 9.977777777777778, 9.717391304347826, 9.51063829787234, 8.979166666666666, 8.73469387755102, 8.54, 7.764705882352941, 7.480769230769231, 7.245283018867925, 7.111111111111111, 6.8, 6.625, 6.473684210526316, 6.327586206896552, 6.084745762711864, 5.8, 5.639344262295082, 5.435483870967742, 5.333333333333333, 5.125, 5.030769230769231, 4.878787878787879, 4.776119402985074, 4.617647058823529, 4.420289855072464, 4.328571428571428, 4.267605633802817, 4.180555555555555, 4.095890410958904, 4.0, 3.72, 3.5921052631578947, 3.4415584415584415, 3.3461538461538463, 3.240506329113924, 3.2, 3.1358024691358026, 3.0, 2.9397590361445785, 2.892857142857143, 2.8, 2.7674418604651163, 2.689655172413793, 2.6363636363636362, 2.5730337078651684, 2.533333333333333, 2.4725274725274726, 2.391304347826087, 2.3333333333333335, 2.1702127659574466, 2.1473684210526316, 2.1041666666666665, 2.0618556701030926, 2.020408163265306, 1.9696969696969697, 1.93]\n"
       ]
      }
     ],
     "prompt_number": 12
    },
    {
     "cell_type": "markdown",
     "metadata": {},
     "source": [
      "And finally visualize this data"
     ]
    },
    {
     "cell_type": "code",
     "collapsed": false,
     "input": [
      "%matplotlib inline\n",
      "import matplotlib.pyplot as plt\n",
      "\n",
      "from math import log\n",
      "plt.figure()\n",
      "plt.title(\"Verifying Zipf's law\")\n",
      "plt.plot([log(rank) for rank in range(1,101)], [log(freq) for (word,freq) in most_common], 'xr')\n",
      "plt.xlabel('log of rank')\n",
      "plt.ylabel('log of frequency')\n",
      "plt.show()\n",
      "\n",
      "plt.figure()\n",
      "plt.plot(range(1,101), [freq for (word,freq) in most_common])\n",
      "plt.ylabel('frequency')\n",
      "plt.show()"
     ],
     "language": "python",
     "metadata": {},
     "outputs": [
      {
       "metadata": {},
       "output_type": "display_data",
       "png": "[encoded data removed]",
       "text": [
        "<matplotlib.figure.Figure at 0x7f0a100e5d90>"
       ]
      },
      {
       "metadata": {},
       "output_type": "display_data",
       "png": "[encoded data removed]",
       "text": [
        "<matplotlib.figure.Figure at 0x7f09f897ea90>"
       ]
      }
     ],
     "prompt_number": 15
    },
    {
     "cell_type": "code",
     "collapsed": false,
     "input": [],
     "language": "python",
     "metadata": {},
     "outputs": []
    }
   ],
   "metadata": {}
  }
 ]
}