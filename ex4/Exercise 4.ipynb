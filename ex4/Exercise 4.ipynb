{
 "metadata": {
  "name": "",
  "signature": "sha256:1e7b9323087f7b786e25090a6a8e12fe0979913e0c213244a3aff2e8e14fbd90"
 },
 "nbformat": 3,
 "nbformat_minor": 0,
 "worksheets": [
  {
   "cells": [
    {
     "cell_type": "markdown",
     "metadata": {},
     "source": [
      "#Task 1\n",
      "\n",
      "$$ f(\\text{Agatha}) = 30$$\n",
      "$$ f(\\text{Christie}) = 117$$\n",
      "$$ f(\\text{Agatha Christie}) = 20$$\n",
      "\n",
      "with \n",
      "\n",
      "$$ p(a) = \\frac{f(a)}{n}$$.\n",
      "\n",
      "We can compute the probability of \"Agatha Christie\" appearing under the null hypothesis (\"Agatha\" and \"Christie\" are independent) as\n",
      "\n",
      "$$ p_{ac} = p(\\text{Agatha}) \\cdot p(\\text{Christie}) $$\n",
      "\n",
      "This is very easy to implement in python:"
     ]
    },
    {
     "cell_type": "code",
     "collapsed": false,
     "input": [
      "n = 1000000 # one million words\n",
      "f_christie = 117\n",
      "f_agatha = 30\n",
      "\n",
      "p_christie = f_christie/n\n",
      "p_agatha = f_agatha/n\n",
      "p_ac = p_agatha * p_christie\n",
      "print(\"p_ac = {}\".format(p_ac))"
     ],
     "language": "python",
     "metadata": {},
     "outputs": [
      {
       "output_type": "stream",
       "stream": "stdout",
       "text": [
        "p_ac = 3.51e-09\n"
       ]
      }
     ],
     "prompt_number": 3
    },
    {
     "cell_type": "markdown",
     "metadata": {},
     "source": [
      "We want now to apply a t-test to find out, if the null hypothesis is met. For this we model this as a Bernoulli process with\n",
      "\n",
      "$$ \\mu = p_{ac}$$\n",
      "$$ \\bar{x} = p(\\text{Agatha Christie}) = \\frac{20}{n} $$\n",
      "$$ \\sigma^2 = p(\\text{Agatha Christie})\\cdot(1 - p(\\text{Agatha Christie})) \\approx p(\\text{Agatha Christie})$$\n",
      "\n",
      "And compute then the t value we observed\n",
      "\n",
      "$$ t_{obs} = \\frac{\\overline{x} - \\mu}{\\sqrt{\\frac{\\sigma^2}{n}}} = \\frac{\\overline{x} - \\mu}{\\sqrt{\\sigma^2}} \\cdot \\sqrt{n}$$.\n",
      "\n",
      "Again this can be easily realized for our example in python"
     ]
    },
    {
     "cell_type": "code",
     "collapsed": false,
     "input": [
      "from math import sqrt\n",
      "\n",
      "f_agatha_christie = 20\n",
      "p_agatha_christie = f_agatha_christie/n\n",
      "print(\"x_bar = {}\".format(p_agatha_christie))\n",
      "\n",
      "mu = p_ac\n",
      "sigma2 = p_agatha_christie*(1 - p_agatha_christie)\n",
      "\n",
      "t_obs = (p_agatha_christie - mu)/sqrt(sigma2)*sqrt(n)\n",
      "print(\"t_obs = {}\".format(t_obs))"
     ],
     "language": "python",
     "metadata": {},
     "outputs": [
      {
       "output_type": "stream",
       "stream": "stdout",
       "text": [
        "x_bar = 2e-05\n",
        "t_obs = 4.471395809321142\n"
       ]
      }
     ],
     "prompt_number": 4
    },
    {
     "cell_type": "markdown",
     "metadata": {},
     "source": [
      "We then compare this value to the t-test distribution for with \n",
      "\n",
      "$$ \\text{dof} = n \\approx \\infty $$\n",
      "\n",
      "for a certainty of 99%:"
     ]
    },
    {
     "cell_type": "code",
     "collapsed": false,
     "input": [
      "t_obs < 2.576"
     ],
     "language": "python",
     "metadata": {},
     "outputs": [
      {
       "metadata": {},
       "output_type": "pyout",
       "prompt_number": 5,
       "text": [
        "False"
       ]
      }
     ],
     "prompt_number": 5
    },
    {
     "cell_type": "markdown",
     "metadata": {},
     "source": [
      "So we come to the conclusion, that \"Agatha Christie\" appears more in the text than just by random occurences.\n",
      "For Task b) adapt the numbers in the following way:"
     ]
    },
    {
     "cell_type": "code",
     "collapsed": false,
     "input": [
      "f_christie = 200\n",
      "f_agatha = 300\n",
      "\n",
      "p_christie = f_christie/n\n",
      "p_agatha = f_agatha/n\n",
      "p_ac = p_agatha * p_christie\n",
      "print(\"p_ac = {}\".format(p_ac))\n",
      "\n",
      "from math import sqrt\n",
      "\n",
      "f_agatha_christie = 6\n",
      "p_agatha_christie = f_agatha_christie/n\n",
      "print(\"x_bar = {}\".format(p_agatha_christie))\n",
      "\n",
      "mu = p_ac\n",
      "sigma2 = p_agatha_christie*(1 - p_agatha_christie)\n",
      "\n",
      "t_obs = (p_agatha_christie - mu)/sqrt(sigma2)*sqrt(n)\n",
      "print(\"t_obs = {}\".format(t_obs))"
     ],
     "language": "python",
     "metadata": {},
     "outputs": [
      {
       "output_type": "stream",
       "stream": "stdout",
       "text": [
        "p_ac = 6e-08\n",
        "x_bar = 6e-06\n",
        "t_obs = 2.4250021203726195\n"
       ]
      }
     ],
     "prompt_number": 6
    },
    {
     "cell_type": "markdown",
     "metadata": {},
     "source": [
      "And again compare it to the same bound as before:"
     ]
    },
    {
     "cell_type": "code",
     "collapsed": false,
     "input": [
      "t_obs < 2.576"
     ],
     "language": "python",
     "metadata": {},
     "outputs": [
      {
       "metadata": {},
       "output_type": "pyout",
       "prompt_number": 7,
       "text": [
        "True"
       ]
      }
     ],
     "prompt_number": 7
    },
    {
     "cell_type": "markdown",
     "metadata": {},
     "source": [
      "And come to the conclusion that it may very well possible that the \"Agatha Christie\" we found are only random occurences and the two terms are most likely not related."
     ]
    },
    {
     "cell_type": "markdown",
     "metadata": {},
     "source": [
      "# Task 2\n",
      "Make a chi-square test based on the observations in table a:"
     ]
    },
    {
     "cell_type": "code",
     "collapsed": false,
     "input": [
      "n_woman = 20000\n",
      "n_all = 60000\n",
      "n_not_woman = 40000\n",
      "\n",
      "# As tuples, observed value to the left, expected to the right\n",
      "# first column\n",
      "n_woman_you = (350, 1000/n_all*n_woman)\n",
      "n_woman_not_you = (19650, 59000/n_all*n_woman)\n",
      "\n",
      "# second column\n",
      "n_not_woman_you = (650, 1000/n_all*n_not_woman)\n",
      "n_not_woman_not_you = (39350, 59000/n_all*n_not_woman)\n",
      "\n",
      "def make_summand(tupel):\n",
      "    return (tupel[0] - tupel[1])**2/tupel[1]\n",
      "\n",
      "chi2a = make_summand(n_woman_you) + make_summand(n_woman_not_you) + make_summand(n_not_woman_you) + make_summand(n_not_woman_not_you)\n",
      "print(\"chi square = {}\".format(chi2a))"
     ],
     "language": "python",
     "metadata": {},
     "outputs": [
      {
       "output_type": "stream",
       "stream": "stdout",
       "text": [
        "chi square = 1.2711864406779663\n"
       ]
      }
     ],
     "prompt_number": 8
    },
    {
     "cell_type": "markdown",
     "metadata": {},
     "source": [
      "We then  compare this value with the value found for 1 degree of freedom and 99% certainty:"
     ]
    },
    {
     "cell_type": "code",
     "collapsed": false,
     "input": [
      "chi2a < 6.6353"
     ],
     "language": "python",
     "metadata": {},
     "outputs": [
      {
       "metadata": {},
       "output_type": "pyout",
       "prompt_number": 9,
       "text": [
        "True"
       ]
      }
     ],
     "prompt_number": 9
    },
    {
     "cell_type": "markdown",
     "metadata": {},
     "source": [
      "And come to the conclusion that there is no correlation. For task b) we do the same with different numbers:"
     ]
    },
    {
     "cell_type": "code",
     "collapsed": false,
     "input": [
      "# first column\n",
      "n_woman_I = (450, 1000/n_all*n_woman)\n",
      "n_woman_not_I = (19550, 59000/n_all*n_woman)\n",
      "\n",
      "# second column\n",
      "n_not_woman_I = (550, 1000/n_all*n_not_woman)\n",
      "n_not_woman_not_I = (39450, 59000/n_all*n_not_woman)\n",
      "\n",
      "chi2b = make_summand(n_woman_I) + make_summand(n_woman_not_I) + make_summand(n_not_woman_I) + make_summand(n_not_woman_not_I)\n",
      "print(\"chi square = {}\".format(chi2b))"
     ],
     "language": "python",
     "metadata": {},
     "outputs": [
      {
       "output_type": "stream",
       "stream": "stdout",
       "text": [
        "chi square = 62.288135593220346\n"
       ]
      }
     ],
     "prompt_number": 10
    },
    {
     "cell_type": "markdown",
     "metadata": {},
     "source": [
      "And make again the comparison with our bound:"
     ]
    },
    {
     "cell_type": "code",
     "collapsed": false,
     "input": [
      "chi2b < 6.635"
     ],
     "language": "python",
     "metadata": {},
     "outputs": [
      {
       "metadata": {},
       "output_type": "pyout",
       "prompt_number": 11,
       "text": [
        "False"
       ]
      }
     ],
     "prompt_number": 11
    },
    {
     "cell_type": "markdown",
     "metadata": {},
     "source": [
      "And come the conclusion that there is some correlation."
     ]
    },
    {
     "cell_type": "markdown",
     "metadata": {},
     "source": [
      "# Task 3\n",
      "For this task we first parse the file and find all tokens and their respective frequency"
     ]
    },
    {
     "cell_type": "code",
     "collapsed": false,
     "input": [
      "from collections import Counter\n",
      "import re\n",
      "\n",
      "with open('input_ex3.txt', encoding='iso-8859-15') as f:\n",
      "    # split() method splits on any whitespace by default\n",
      "    arry = f.read().split()\n",
      "    arry = list(filter(lambda x: not re.match(r'[<>\\d]+', x), arry))\n",
      "\n",
      "counter = Counter()\n",
      "n_words = 0\n",
      "for i in arry:\n",
      "    # remove trailing dots\n",
      "    if i[-1] == '.':\n",
      "        i = i[0:-1]\n",
      "    counter[i] += 1\n",
      "    n_words += 1\n",
      "\n",
      "n_types = len(counter)\n",
      "most_common = counter.most_common(100)\n",
      "print('Found {} words and {} types. The 100 most common are:'.format(n_words, n_types))\n",
      "print(most_common)"
     ],
     "language": "python",
     "metadata": {},
     "outputs": [
      {
       "output_type": "stream",
       "stream": "stdout",
       "text": [
        "Found 192046 words and 14079 types. The 100 most common are:\n",
        "[('the', 16569), ('of', 11796), ('to', 6840), ('and', 4876), ('in', 4130), ('a', 3826), ('be', 3748), ('that', 2677), ('is', 1970), ('which', 1961), ('it', 1884), ('by', 1710), ('as', 1596), ('The', 1266), ('have', 1215), ('would', 1206), ('or', 1191), ('for', 1187), ('will', 1178), ('not', 1151), ('this', 1107), ('their', 1078), ('with', 1011), ('from', 1004), ('are', 981), ('on', 907), ('an', 885), ('they', 786), ('been', 786), ('may', 778), ('all', 646), ('its', 624), ('has', 577), ('more', 569), ('State', 561), ('at', 552), ('other', 550), ('than', 549), ('government', 544), ('any', 538), ('It', 495), ('States', 488), ('power', 488), ('one', 475), ('no', 449), ('can', 447), ('those', 447), ('them', 431), ('but', 428), ('must', 427), ('we', 396), ('most', 389), ('such', 384), ('who', 384), ('so', 374), ('upon', 371), ('these', 369), ('I', 367), ('his', 359), ('people', 348), ('there', 344), ('same', 337), ('if', 336), ('against', 328), ('should', 327), ('was', 322), ('every', 320), ('national', 314), ('might', 305), ('In', 303), ('federal', 303), ('under', 301), ('our', 299), ('into', 296), ('only', 279), ('public', 273), ('were', 265), ('had', 261), ('But', 256), ('States,', 256), ('ought', 254), ('some', 246), ('between', 244), ('general', 243), ('great', 238), ('authority', 238), ('shall', 234), ('could', 232), ('This', 229), ('less', 228), ('New', 225), ('each', 220), ('government,', 217), ('part', 204), ('Constitution', 204), ('different', 202), ('United', 200), ('particular', 198), ('two', 195), ('well', 193)]\n"
       ]
      }
     ],
     "prompt_number": 12
    },
    {
     "cell_type": "markdown",
     "metadata": {},
     "source": [
      "And then visualize this data to verify Zipfs law"
     ]
    },
    {
     "cell_type": "code",
     "collapsed": false,
     "input": [
      "%matplotlib inline\n",
      "import matplotlib.pyplot as plt\n",
      "\n",
      "from math import log\n",
      "plt.figure()\n",
      "plt.title(\"Verifying Zipf's law\")\n",
      "plt.scatter([log(rank) for rank in range(1,101)], [log(freq) for (word,freq) in most_common])\n",
      "plt.xlabel('log of rank')\n",
      "plt.ylabel('log of frequency')\n",
      "plt.show()\n",
      "\n",
      "plt.figure()\n",
      "plt.title(\"Verifying Zipf's law - log log plot\")\n",
      "plt.scatter(range(1,101), [freq for (word,freq) in most_common])\n",
      "plt.axes().set_yscale('log')\n",
      "plt.axes().set_xscale('log')\n",
      "\n",
      "plt.figure()\n",
      "n_harmonic = sum(map(lambda x: 1/x, range(1,101)))\n",
      "plt.title(\"Verifying Zipf's law - log log plot\")\n",
      "plt.scatter([x/n_harmonic for x in range(1,101)], [freq for (word,freq) in most_common])\n",
      "plt.axes().set_yscale('log')\n",
      "plt.axes().set_xscale('log')\n",
      "\n",
      "plt.xlabel('rank')\n",
      "plt.ylabel('frequency')\n",
      "plt.show()\n",
      "\n",
      "plt.figure()\n",
      "plt.scatter(range(1,101), [freq for (word,freq) in most_common])\n",
      "plt.ylabel('frequency')\n",
      "plt.show()"
     ],
     "language": "python",
     "metadata": {},
     "outputs": [
      {
       "metadata": {},
       "output_type": "display_data",
       "png": "[encoded data removed]",
       "text": [
        "<matplotlib.figure.Figure at 0x7f97a47bca58>"
       ]
      },
      {
       "metadata": {},
       "output_type": "display_data",
       "png": "[encoded data removed]",
       "text": [
        "<matplotlib.figure.Figure at 0x7f97a4dcac88>"
       ]
      },
      {
       "metadata": {},
       "output_type": "display_data",
       "png": "[encoded data removed]",
       "text": [
        "<matplotlib.figure.Figure at 0x7f97a4610940>"
       ]
      },
      {
       "metadata": {},
       "output_type": "display_data",
       "png": "[encoded data removed]",
       "text": [
        "<matplotlib.figure.Figure at 0x7f97a4b37080>"
       ]
      }
     ],
     "prompt_number": 19
    },
    {
     "cell_type": "code",
     "collapsed": false,
     "input": [],
     "language": "python",
     "metadata": {},
     "outputs": [],
     "prompt_number": 13
    },
    {
     "cell_type": "code",
     "collapsed": false,
     "input": [],
     "language": "python",
     "metadata": {},
     "outputs": []
    }
   ],
   "metadata": {}
  }
 ]
}