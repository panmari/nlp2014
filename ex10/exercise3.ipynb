{
 "metadata": {
  "name": ""
 },
 "nbformat": 3,
 "nbformat_minor": 0,
 "worksheets": [
  {
   "cells": [
    {
     "cell_type": "markdown",
     "metadata": {},
     "source": [
      "#Exercise 3\n",
      "In this exercise we're given the task of decrypting a cypher text. We know that it is written in english and encrypted using a monoalphabetic cypher. First we define some helpers and define our cypher text"
     ]
    },
    {
     "cell_type": "code",
     "collapsed": false,
     "input": [
      "cypher_text = '''ODQSOCL OW GIU BOEE QRROHOCS QV GIUR KIA QF Q DQCQSLR WIR\n",
      "ICL IW CQFQF EIYQE YIDJUVLR FGFVLDF GIU SLV OCVI GIUR\n",
      "IWWOYL IC VXQV DICPQG DIRCOCS VI WOCP VXL JXICLF ROCSOCS\n",
      "LHLRG YQEELR OF Q POFVRQUSXV YICWUFLP CQFQ BIRMLR QCP\n",
      "LHLRG YQEELR QFFURLF GIU VXQV XOF IR XLR WOEL IR\n",
      "QYYIUCVOCS RLYIRP IR RLFLQRYX JRIKLYV LHLRG ICL IW BXOYX\n",
      "OF DOFFOCS WRID VXL YIDJUVLR FGFVLD OF QAFIEUVLEG HOVQE'''\n",
      "\n",
      "# HINT: NASA appears multiple times\n",
      "# look for 'ing' as word ending.\n",
      "\n",
      "import string\n",
      "from collections import Counter\n",
      "\n",
      "key_dict = {' ': ' ', \"\\n\":\"\\n\"}\n",
      "for u in string.ascii_uppercase:\n",
      "    key_dict[u] = u\n",
      "    \n",
      "# translation helper \n",
      "def translate(key_dict):\n",
      "    translated = \"\"\n",
      "    for i in cypher_text:\n",
      "        translated += key_dict[i]\n",
      "    print(translated)"
     ],
     "language": "python",
     "metadata": {},
     "outputs": [],
     "prompt_number": 115
    },
    {
     "cell_type": "markdown",
     "metadata": {},
     "source": [
      "To get some general feel of the text, we first count the number of occurences of each word in the text, hoping that we can get a quick match for the very frequent short words 'the', 'I' or 'a'. "
     ]
    },
    {
     "cell_type": "code",
     "collapsed": false,
     "input": [
      "Counter(cypher_text.split())"
     ],
     "language": "python",
     "metadata": {},
     "outputs": [
      {
       "metadata": {},
       "output_type": "pyout",
       "prompt_number": 116,
       "text": [
        "Counter({'LHLRG': 3, 'OF': 3, 'GIU': 3, 'IR': 3, 'YIDJUVLR': 2, 'VXL': 2, 'ICL': 2, 'GIUR': 2, 'YQEELR': 2, 'IW': 2, 'Q': 2, 'VXQV': 2, 'BOEE': 1, 'BXOYX': 1, 'DQCQSLR': 1, 'QF': 1, 'OCVI': 1, 'POFVRQUSXV': 1, 'DIRCOCS': 1, 'HOVQE': 1, 'QFFURLF': 1, 'DICPQG': 1, 'KIA': 1, 'QAFIEUVLEG': 1, 'ROCSOCS': 1, 'QCP': 1, 'RLFLQRYX': 1, 'CQFQ': 1, 'XLR': 1, 'WOEL': 1, 'CQFQF': 1, 'WIR': 1, 'DOFFOCS': 1, 'YICWUFLP': 1, 'FGFVLD': 1, 'XOF': 1, 'JRIKLYV': 1, 'SLV': 1, 'RLYIRP': 1, 'WOCP': 1, 'JXICLF': 1, 'WRID': 1, 'OW': 1, 'EIYQE': 1, 'IC': 1, 'QRROHOCS': 1, 'QV': 1, 'QYYIUCVOCS': 1, 'FGFVLDF': 1, 'BIRMLR': 1, 'IWWOYL': 1, 'ODQSOCL': 1, 'VI': 1})"
       ]
      }
     ],
     "prompt_number": 116
    },
    {
     "cell_type": "markdown",
     "metadata": {},
     "source": [
      "Sadly there are no obvious choises there. But we know from the source of the text that the term 'nasa' appears in the text multiple times, so we look for 4 letter words that appear multiple times in the text."
     ]
    },
    {
     "cell_type": "code",
     "collapsed": false,
     "input": [
      "Counter((filter(lambda x: len(x) == 4, cypher_text.split())))"
     ],
     "language": "python",
     "metadata": {},
     "outputs": [
      {
       "metadata": {},
       "output_type": "pyout",
       "prompt_number": 117,
       "text": [
        "Counter({'VXQV': 2, 'GIUR': 2, 'WOEL': 1, 'CQFQ': 1, 'OCVI': 1, 'WOCP': 1, 'WRID': 1, 'BOEE': 1})"
       ]
      }
     ],
     "prompt_number": 117
    },
    {
     "cell_type": "markdown",
     "metadata": {},
     "source": [
      "Since we know its a monoalphabetic substitution cypher, the only word that can possibly match is CQFQ. This also matches with the observations that Q must be a one letter word, so either 'I' or 'a' in english."
     ]
    },
    {
     "cell_type": "code",
     "collapsed": false,
     "input": [
      "key_dict['C'] = 'n'\n",
      "key_dict['Q'] = 'a'\n",
      "key_dict['F'] = 's'\n",
      "translate(key_dict)"
     ],
     "language": "python",
     "metadata": {},
     "outputs": [
      {
       "output_type": "stream",
       "stream": "stdout",
       "text": [
        "ODaSOnL OW GIU BOEE aRROHOnS aV GIUR KIA as a DanaSLR WIR\n",
        "InL IW nasas EIYaE YIDJUVLR sGsVLDs GIU SLV OnVI GIUR\n",
        "IWWOYL In VXaV DInPaG DIRnOnS VI WOnP VXL JXInLs ROnSOnS\n",
        "LHLRG YaEELR Os a POsVRaUSXV YInWUsLP nasa BIRMLR anP\n",
        "LHLRG YaEELR assURLs GIU VXaV XOs IR XLR WOEL IR\n",
        "aYYIUnVOnS RLYIRP IR RLsLaRYX JRIKLYV LHLRG InL IW BXOYX\n",
        "Os DOssOnS WRID VXL YIDJUVLR sGsVLD Os aAsIEUVLEG HOVaE\n"
       ]
      }
     ],
     "prompt_number": 118
    },
    {
     "cell_type": "markdown",
     "metadata": {},
     "source": [
      "We can now observe 'nasas' multiple time in the text. Our assumption seems to be confirmed. We also know that words very frequently end with 'ing' in english. We look for a trigram that appears very often at the end of words with length above a certain threshold"
     ]
    },
    {
     "cell_type": "code",
     "collapsed": false,
     "input": [
      "length_threshold = 4\n",
      "Counter(x[-3:] for x in filter(lambda x: len(x) > length_threshold, cypher_text.split()))"
     ],
     "language": "python",
     "metadata": {},
     "outputs": [
      {
       "metadata": {},
       "output_type": "pyout",
       "prompt_number": 119,
       "text": [
        "Counter({'OCS': 5, 'LRG': 3, 'VLR': 2, 'ELR': 2, 'OYX': 1, 'VQE': 1, 'CLF': 1, 'RYX': 1, 'VLD': 1, 'YQE': 1, 'LEG': 1, 'OYL': 1, 'SLR': 1, 'MLR': 1, 'LYV': 1, 'IRP': 1, 'RLF': 1, 'FQF': 1, 'LDF': 1, 'OCL': 1, 'PQG': 1, 'SXV': 1, 'FLP': 1})"
       ]
      }
     ],
     "prompt_number": 119
    },
    {
     "cell_type": "markdown",
     "metadata": {},
     "source": [
      "And indeed, the trigram OCS appears noticeably often at the end of words. We accept the conjuction for now and set it to the 'ing'."
     ]
    },
    {
     "cell_type": "code",
     "collapsed": false,
     "input": [
      "key_dict['O'] = 'i'\n",
      "key_dict['C'] = 'n'\n",
      "key_dict['S'] = 'g'\n",
      "translate(key_dict)"
     ],
     "language": "python",
     "metadata": {},
     "outputs": [
      {
       "output_type": "stream",
       "stream": "stdout",
       "text": [
        "iDaginL iW GIU BiEE aRRiHing aV GIUR KIA as a DanagLR WIR\n",
        "InL IW nasas EIYaE YIDJUVLR sGsVLDs GIU gLV inVI GIUR\n",
        "IWWiYL In VXaV DInPaG DIRning VI WinP VXL JXInLs Ringing\n",
        "LHLRG YaEELR is a PisVRaUgXV YInWUsLP nasa BIRMLR anP\n",
        "LHLRG YaEELR assURLs GIU VXaV Xis IR XLR WiEL IR\n",
        "aYYIUnVing RLYIRP IR RLsLaRYX JRIKLYV LHLRG InL IW BXiYX\n",
        "is Dissing WRID VXL YIDJUVLR sGsVLD is aAsIEUVLEG HiVaE\n"
       ]
      }
     ],
     "prompt_number": 120
    },
    {
     "cell_type": "markdown",
     "metadata": {},
     "source": [
      "Now we can already make out some words: \n",
      "\n",
      "* Dissing -> missing\n",
      "* assURLs -> assures or asserts, Ringing -> ringing, all indicate R -> r\n",
      "* anP -> and"
     ]
    },
    {
     "cell_type": "code",
     "collapsed": false,
     "input": [
      "key_dict['D'] = 'm'\n",
      "key_dict['R'] = 'r'\n",
      "key_dict['P'] = 'd'\n",
      "translate(key_dict)"
     ],
     "language": "python",
     "metadata": {},
     "outputs": [
      {
       "output_type": "stream",
       "stream": "stdout",
       "text": [
        "imaginL iW GIU BiEE arriHing aV GIUr KIA as a managLr WIr\n",
        "InL IW nasas EIYaE YImJUVLr sGsVLms GIU gLV inVI GIUr\n",
        "IWWiYL In VXaV mIndaG mIrning VI Wind VXL JXInLs ringing\n",
        "LHLrG YaEELr is a disVraUgXV YInWUsLd nasa BIrMLr and\n",
        "LHLrG YaEELr assUrLs GIU VXaV Xis Ir XLr WiEL Ir\n",
        "aYYIUnVing rLYIrd Ir rLsLarYX JrIKLYV LHLrG InL IW BXiYX\n",
        "is missing WrIm VXL YImJUVLr sGsVLm is aAsIEUVLEG HiVaE\n"
       ]
      }
     ],
     "prompt_number": 121
    },
    {
     "cell_type": "markdown",
     "metadata": {},
     "source": [
      "further we have\n",
      "\n",
      "* managLr -> manager, imaginL -> imagine\n",
      "* mIrning -> morning"
     ]
    },
    {
     "cell_type": "code",
     "collapsed": false,
     "input": [
      "key_dict['L'] = 'e'\n",
      "key_dict['I'] = 'o'\n",
      "translate(key_dict)"
     ],
     "language": "python",
     "metadata": {},
     "outputs": [
      {
       "output_type": "stream",
       "stream": "stdout",
       "text": [
        "imagine iW GoU BiEE arriHing aV GoUr KoA as a manager Wor\n",
        "one oW nasas EoYaE YomJUVer sGsVems GoU geV inVo GoUr\n",
        "oWWiYe on VXaV mondaG morning Vo Wind VXe JXones ringing\n",
        "eHerG YaEEer is a disVraUgXV YonWUsed nasa BorMer and\n",
        "eHerG YaEEer assUres GoU VXaV Xis or Xer WiEe or\n",
        "aYYoUnVing reYord or researYX JroKeYV eHerG one oW BXiYX\n",
        "is missing Wrom VXe YomJUVer sGsVem is aAsoEUVeEG HiVaE\n"
       ]
      }
     ],
     "prompt_number": 122
    },
    {
     "cell_type": "markdown",
     "metadata": {},
     "source": [
      "* arriHing -> arriving\n",
      "* Wrom -> from\n",
      "* sGsVem -> system"
     ]
    },
    {
     "cell_type": "code",
     "collapsed": false,
     "input": [
      "key_dict['H'] = 'v'\n",
      "key_dict['W'] = 'f'\n",
      "key_dict['G'] = 'y'\n",
      "key_dict['V'] = 't'\n",
      "translate(key_dict)"
     ],
     "language": "python",
     "metadata": {},
     "outputs": [
      {
       "output_type": "stream",
       "stream": "stdout",
       "text": [
        "imagine if yoU BiEE arriving at yoUr KoA as a manager for\n",
        "one of nasas EoYaE YomJUter systems yoU get into yoUr\n",
        "offiYe on tXat monday morning to find tXe JXones ringing\n",
        "every YaEEer is a distraUgXt YonfUsed nasa BorMer and\n",
        "every YaEEer assUres yoU tXat Xis or Xer fiEe or\n",
        "aYYoUnting reYord or researYX JroKeYt every one of BXiYX\n",
        "is missing from tXe YomJUter system is aAsoEUteEy vitaE\n"
       ]
      }
     ],
     "prompt_number": 123
    },
    {
     "cell_type": "markdown",
     "metadata": {},
     "source": [
      "* yoUr -> your\n",
      "* Xis -> his, Xer -> her\n",
      "* reYord -> record, aYYoUnting -> accounting\n",
      "* vitaE -> vital"
     ]
    },
    {
     "cell_type": "code",
     "collapsed": false,
     "input": [
      "key_dict['U'] = 'u'\n",
      "key_dict['X'] = 'h'\n",
      "key_dict['Y'] = 'c'\n",
      "key_dict['E'] = 'l'\n",
      "translate(key_dict)"
     ],
     "language": "python",
     "metadata": {},
     "outputs": [
      {
       "output_type": "stream",
       "stream": "stdout",
       "text": [
        "imagine if you Bill arriving at your KoA as a manager for\n",
        "one of nasas local comJuter systems you get into your\n",
        "office on that monday morning to find the Jhones ringing\n",
        "every caller is a distraught confused nasa BorMer and\n",
        "every caller assures you that his or her file or\n",
        "accounting record or research JroKect every one of Bhich\n",
        "is missing from the comJuter system is aAsolutely vital\n"
       ]
      }
     ],
     "prompt_number": 124
    },
    {
     "cell_type": "markdown",
     "metadata": {},
     "source": [
      "* Jhones -> phones, comJuter -> computer\n",
      "* aAsolutely -> absolutely\n"
     ]
    },
    {
     "cell_type": "code",
     "collapsed": false,
     "input": [
      "key_dict['J'] = 'p'\n",
      "key_dict['A'] = 'b'\n",
      "translate(key_dict)"
     ],
     "language": "python",
     "metadata": {},
     "outputs": [
      {
       "output_type": "stream",
       "stream": "stdout",
       "text": [
        "imagine if you Bill arriving at your Kob as a manager for\n",
        "one of nasas local computer systems you get into your\n",
        "office on that monday morning to find the phones ringing\n",
        "every caller is a distraught confused nasa BorMer and\n",
        "every caller assures you that his or her file or\n",
        "accounting record or research proKect every one of Bhich\n",
        "is missing from the computer system is absolutely vital\n"
       ]
      }
     ],
     "prompt_number": 125
    },
    {
     "cell_type": "markdown",
     "metadata": {},
     "source": [
      "proKect -> project"
     ]
    },
    {
     "cell_type": "code",
     "collapsed": false,
     "input": [
      "key_dict['K'] = 'j'\n",
      "translate(key_dict)"
     ],
     "language": "python",
     "metadata": {},
     "outputs": [
      {
       "output_type": "stream",
       "stream": "stdout",
       "text": [
        "imagine if you Bill arriving at your job as a manager for\n",
        "one of nasas local computer systems you get into your\n",
        "office on that monday morning to find the phones ringing\n",
        "every caller is a distraught confused nasa BorMer and\n",
        "every caller assures you that his or her file or\n",
        "accounting record or research project every one of Bhich\n",
        "is missing from the computer system is absolutely vital\n"
       ]
      }
     ],
     "prompt_number": 126
    },
    {
     "cell_type": "markdown",
     "metadata": {},
     "source": [
      "* Bhich -> which, Bill -> will\n",
      "* worMer -> worker"
     ]
    },
    {
     "cell_type": "code",
     "collapsed": false,
     "input": [
      "key_dict['B'] = 'w'\n",
      "key_dict['M'] = 'k'\n",
      "translate(key_dict)"
     ],
     "language": "python",
     "metadata": {},
     "outputs": [
      {
       "output_type": "stream",
       "stream": "stdout",
       "text": [
        "imagine if you will arriving at your job as a manager for\n",
        "one of nasas local computer systems you get into your\n",
        "office on that monday morning to find the phones ringing\n",
        "every caller is a distraught confused nasa worker and\n",
        "every caller assures you that his or her file or\n",
        "accounting record or research project every one of which\n",
        "is missing from the computer system is absolutely vital\n"
       ]
      }
     ],
     "prompt_number": 127
    },
    {
     "cell_type": "markdown",
     "metadata": {},
     "source": [
      "Now, every character occuring in the text has a mapping:"
     ]
    },
    {
     "cell_type": "code",
     "collapsed": false,
     "input": [
      "print(key_dict)"
     ],
     "language": "python",
     "metadata": {},
     "outputs": [
      {
       "output_type": "stream",
       "stream": "stdout",
       "text": [
        "{'P': 'd', 'C': 'n', 'U': 'u', 'V': 't', 'K': 'j', 'D': 'm', 'F': 's', 'O': 'i', 'L': 'e', 'G': 'y', 'E': 'l', 'R': 'r', 'J': 'p', 'Q': 'a', 'W': 'f', '\\n': '\\n', 'S': 'g', 'H': 'v', 'B': 'w', 'Y': 'c', 'M': 'k', ' ': ' ', 'T': 'T', 'A': 'b', 'I': 'o', 'X': 'h', 'Z': 'Z', 'N': 'N'}\n"
       ]
      }
     ],
     "prompt_number": 128
    },
    {
     "cell_type": "markdown",
     "metadata": {},
     "source": [
      "With some added punctutation, we arrive at the following sentence:\n",
      "\n",
      "> Imagine if you will arriving at your job as a manager for\n",
      "one of nasas local computer systems. You get into your\n",
      "office on that monday morning to find the phones ringing.\n",
      "Every caller is a distraught, confused nasa worker and\n",
      "every caller assures you that his, or her, file or\n",
      "accounting record or research project, every one of which\n",
      "is missing from the computer system, is absolutely vital."
     ]
    },
    {
     "cell_type": "code",
     "collapsed": false,
     "input": [],
     "language": "python",
     "metadata": {},
     "outputs": [],
     "prompt_number": 128
    }
   ],
   "metadata": {}
  }
 ]
}