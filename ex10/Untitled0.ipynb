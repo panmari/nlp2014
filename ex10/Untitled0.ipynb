{
 "metadata": {
  "name": ""
 },
 "nbformat": 3,
 "nbformat_minor": 0,
 "worksheets": [
  {
   "cells": [
    {
     "cell_type": "markdown",
     "metadata": {},
     "source": [
      "#Exercise 3 - Decrypting substitution cypher\n",
      "We have the following text given"
     ]
    },
    {
     "cell_type": "code",
     "collapsed": false,
     "input": [
      "cypher_text = '''ODQSOCL OW GIU BOEE QRROHOCS QV GIUR KIA QF Q DQCQSLR WIR\n",
      "ICL IW CQFQF EIYQE YIDJUVLR FGFVLDF GIU SLV OCVI GIUR\n",
      "IWWOYL IC VXQV DICPQG DIRCOCS VI WOCP VXL JXICLF ROCSOCS\n",
      "LHLRG YQEELR OF Q POFVRQUSXV YICWUFLP CQFQ BIRMLR QCP\n",
      "LHLRG YQEELR QFFURLF GIU VXQV XOF IR XLR WOEL IR\n",
      "QYYIUCVOCS RLYIRP IR RLFLQRYX JRIKLYV LHLRG ICL IW BXOYX\n",
      "OF DOFFOCS WRID VXL YIDJUVLR FGFVLD OF QAFIEUVLEG HOVQE'''"
     ],
     "language": "python",
     "metadata": {},
     "outputs": [],
     "prompt_number": 2
    },
    {
     "cell_type": "markdown",
     "metadata": {},
     "source": [
      "Since we can assume that this text is written in english, we can do some statistical analysis by using the frequencies of letters in a normal english text given by"
     ]
    },
    {
     "cell_type": "code",
     "collapsed": false,
     "input": [
      "freq_normal = '''A 8.167\n",
      "B 1.492\n",
      "C 2.782\n",
      "D 4.253\n",
      "E 12.702\n",
      "F 2.228\n",
      "G 2.015\n",
      "H 6.094\n",
      "I 6.996\n",
      "J 0.153\n",
      "K 0.772\n",
      "L 4.025\n",
      "M 2.406\n",
      "N 6.749\n",
      "O 7.507\n",
      "P 1.929\n",
      "Q 0.095\n",
      "R 5.987\n",
      "S 6.327\n",
      "T 9.056\n",
      "U 2.758\n",
      "V 0.978\n",
      "W 2.360\n",
      "X 0.150\n",
      "Y 1.974\n",
      "Z 0.074'''\n",
      "freq_normal = [x.split(' ') for x in freq_normal.split(\"\\n\")]\n",
      "freq_normal = dict([[k, float(v)] for k,v in freq_normal]) # cast to float second argument\n",
      "from operator import itemgetter\n",
      "freq_normal_sorted = sorted(freq_normal.items(), key=itemgetter(1), reverse=True) #sort by frequency\n",
      "print(freq_normal_sorted)"
     ],
     "language": "python",
     "metadata": {},
     "outputs": [
      {
       "output_type": "stream",
       "stream": "stdout",
       "text": [
        "[('E', 12.702), ('T', 9.056), ('A', 8.167), ('O', 7.507), ('I', 6.996), ('N', 6.749), ('S', 6.327), ('H', 6.094), ('R', 5.987), ('D', 4.253), ('L', 4.025), ('C', 2.782), ('U', 2.758), ('M', 2.406), ('W', 2.36), ('F', 2.228), ('G', 2.015), ('Y', 1.974), ('P', 1.929), ('B', 1.492), ('V', 0.978), ('K', 0.772), ('J', 0.153), ('X', 0.15), ('Q', 0.095), ('Z', 0.074)]\n"
       ]
      }
     ],
     "prompt_number": 3
    },
    {
     "cell_type": "markdown",
     "metadata": {},
     "source": [
      "In a next step, we compute the frequencies of all letters in the cyphertext excluding whitespace."
     ]
    },
    {
     "cell_type": "code",
     "collapsed": false,
     "input": [
      "from collections import Counter\n",
      "import re\n",
      "freq_cypher = Counter()\n",
      "for letter in cypher_text:\n",
      "    if re.match('\\s',letter): continue\n",
      "    freq_cypher[letter] += 1\n",
      "print(freq_cypher)"
     ],
     "language": "python",
     "metadata": {},
     "outputs": [
      {
       "output_type": "stream",
       "stream": "stdout",
       "text": [
        "Counter({'L': 31, 'I': 31, 'R': 29, 'Q': 25, 'F': 23, 'O': 23, 'C': 21, 'V': 20, 'Y': 13, 'E': 12, 'G': 12, 'U': 12, 'X': 11, 'W': 10, 'S': 10, 'D': 10, 'P': 6, 'H': 5, 'J': 4, 'B': 3, 'A': 2, 'K': 2, 'M': 1})\n"
       ]
      }
     ],
     "prompt_number": 4
    },
    {
     "cell_type": "markdown",
     "metadata": {},
     "source": [
      "And then try to simply match the frequencies from the most frequent to the last frequent."
     ]
    },
    {
     "cell_type": "code",
     "collapsed": false,
     "input": [
      "freq_cypher_sorted = [x[0] for x in freq_cypher.most_common()]\n",
      "#freq_cypher = dict(freq_cypher)\n",
      "decypher_dict = dict(zip(freq_cypher_sorted, [x[0].lower() for x in freq_normal_sorted ]))\n",
      "print(decypher_dict)"
     ],
     "language": "python",
     "metadata": {},
     "outputs": [
      {
       "output_type": "stream",
       "stream": "stdout",
       "text": [
        "{'V': 'h', 'H': 'y', 'J': 'p', 'C': 's', 'W': 'm', 'B': 'b', 'E': 'd', 'G': 'l', 'P': 'g', 'R': 'a', 'U': 'c', 'O': 'n', 'L': 'e', 'Q': 'o', 'S': 'w', 'X': 'u', 'A': 'v', 'Y': 'r', 'K': 'k', 'D': 'f', 'I': 't', 'M': 'j', 'F': 'i'}\n"
       ]
      }
     ],
     "prompt_number": 5
    },
    {
     "cell_type": "markdown",
     "metadata": {},
     "source": [
      "Now we have a mapping that can be used for translating the cyphertext to plaintext"
     ]
    },
    {
     "cell_type": "code",
     "collapsed": false,
     "input": [
      "plaintext = ''\n",
      "for letter in cypher_text:\n",
      "    if re.match('\\s',letter): \n",
      "        plaintext += letter\n",
      "    else:\n",
      "        plaintext += decypher_dict[letter.upper()]\n",
      "    \n",
      "print(plaintext)"
     ],
     "language": "python",
     "metadata": {},
     "outputs": [
      {
       "output_type": "stream",
       "stream": "stdout",
       "text": [
        "nfownse nm ltc bndd oaanynsw oh ltca ktv oi o fosowea mta\n",
        "tse tm soioi dtrod rtfpchea ilihefi ltc weh nsht ltca\n",
        "tmmnre ts huoh ftsgol ftasnsw ht mnsg hue putsei answnsw\n",
        "eyeal roddea ni o gnihaocwuh rtsmcieg soio btajea osg\n",
        "eyeal roddea oiicaei ltc huoh uni ta uea mnde ta\n",
        "orrtcshnsw aertag ta aeieoaru patkerh eyeal tse tm bunru\n",
        "ni fniinsw matf hue rtfpchea ilihef ni ovitdchedl ynhod\n"
       ]
      }
     ],
     "prompt_number": 6
    },
    {
     "cell_type": "markdown",
     "metadata": {},
     "source": [
      "Sadly, this does not yield very good results. TODO: bigram/trigram analysis"
     ]
    },
    {
     "cell_type": "code",
     "collapsed": false,
     "input": [
      "def make_n_grams(n, s):\n",
      "    rangeCount = max(len(s) - n + 1, 0)\n",
      "    # use list comprehensive to assemble list of ngrams (represented as tuples)\n",
      "    return [tuple(s[i:i+n]) for i in range(rangeCount)]\n",
      "\n",
      "from collections import Counter\n",
      "from itertools import chain\n",
      "\n",
      "bigram_freq_cypher = Counter()\n",
      "bigram_cypher = make_n_grams(2, cypher_text.replace(\"\\n\", ' '))\n",
      "bigram_freq_cypher.update(bigram_cypher)\n",
      "bigram_freq_cypher_no_whitespace = list(filter(lambda x: ' ' not in x[0], bigram_freq_cypher.most_common()))\n",
      "bigrams_freq_cypher_sorted = [''.join(x[0]) for x in bigram_freq_cypher_no_whitespace]\n",
      "print(bigram_freq_cypher_no_whitespace)"
     ],
     "language": "python",
     "metadata": {},
     "outputs": [
      {
       "output_type": "stream",
       "stream": "stdout",
       "text": [
        "[(('L', 'R'), 10), (('O', 'C'), 9), (('I', 'R'), 7), (('I', 'C'), 6), (('C', 'S'), 6), (('I', 'U'), 6), (('O', 'F'), 6), (('G', 'I'), 5), (('V', 'L'), 5), (('Y', 'I'), 5), (('Q', 'F'), 5), (('Q', 'E'), 4), (('V', 'X'), 4), (('C', 'L'), 4), (('E', 'L'), 3), (('I', 'W'), 3), (('C', 'P'), 3), (('L', 'H'), 3), (('R', 'L'), 3), (('C', 'Q'), 3), (('U', 'V'), 3), (('W', 'O'), 3), (('F', 'V'), 3), (('H', 'L'), 3), (('X', 'L'), 3), (('Y', 'Q'), 3), (('I', 'D'), 3), (('E', 'E'), 3), (('Q', 'V'), 3), (('L', 'F'), 3), (('R', 'G'), 3), (('U', 'R'), 3), (('H', 'O'), 2), (('D', 'J'), 2), (('C', 'V'), 2), (('S', 'O'), 2), (('Q', 'C'), 2), (('D', 'I'), 2), (('R', 'O'), 2), (('O', 'E'), 2), (('Q', 'R'), 2), (('Y', 'X'), 2), (('V', 'I'), 2), (('G', 'F'), 2), (('F', 'F'), 2), (('D', 'Q'), 2), (('X', 'Q'), 2), (('Q', 'S'), 2), (('F', 'L'), 2), (('J', 'U'), 2), (('S', 'L'), 2), (('X', 'O'), 2), (('L', 'D'), 2), (('L', 'Y'), 2), (('O', 'Y'), 2), (('R', 'I'), 2), (('F', 'G'), 2), (('F', 'Q'), 2), (('I', 'Y'), 1), (('E', 'G'), 1), (('R', 'M'), 1), (('Y', 'Y'), 1), (('W', 'U'), 1), (('M', 'L'), 1), (('O', 'V'), 1), (('L', 'V'), 1), (('W', 'I'), 1), (('W', 'R'), 1), (('B', 'X'), 1), (('Q', 'G'), 1), (('L', 'E'), 1), (('U', 'C'), 1), (('D', 'F'), 1), (('L', 'P'), 1), (('V', 'O'), 1), (('J', 'X'), 1), (('C', 'O'), 1), (('K', 'I'), 1), (('Q', 'U'), 1), (('R', 'Y'), 1), (('A', 'F'), 1), (('O', 'H'), 1), (('R', 'R'), 1), (('D', 'O'), 1), (('R', 'P'), 1), (('P', 'O'), 1), (('B', 'I'), 1), (('J', 'R'), 1), (('F', 'O'), 1), (('O', 'D'), 1), (('L', 'Q'), 1), (('I', 'A'), 1), (('X', 'V'), 1), (('Y', 'V'), 1), (('O', 'W'), 1), (('E', 'U'), 1), (('Q', 'A'), 1), (('K', 'L'), 1), (('B', 'O'), 1), (('U', 'S'), 1), (('C', 'W'), 1), (('R', 'C'), 1), (('P', 'Q'), 1), (('F', 'U'), 1), (('F', 'I'), 1), (('V', 'R'), 1), (('S', 'X'), 1), (('V', 'Q'), 1), (('I', 'E'), 1), (('I', 'K'), 1), (('U', 'F'), 1), (('E', 'I'), 1), (('X', 'I'), 1), (('R', 'Q'), 1), (('W', 'W'), 1), (('Y', 'L'), 1), (('Q', 'Y'), 1)]\n"
       ]
      }
     ],
     "prompt_number": 134
    },
    {
     "cell_type": "code",
     "collapsed": false,
     "input": [
      "import re\n",
      "bigram_freq_normal = '''th 1.52       en 0.55       ng 0.18\n",
      "he 1.28       ed 0.53       of 0.16\n",
      "in 0.94       to 0.52       al 0.09\n",
      "er 0.94       it 0.50       de 0.09\n",
      "an 0.82       ou 0.50       se 0.08\n",
      "re 0.68       ea 0.47       le 0.08\n",
      "nd 0.63       hi 0.46       sa 0.06\n",
      "at 0.59       is 0.46       si 0.05\n",
      "on 0.57       or 0.43       ar 0.04\n",
      "nt 0.56       ti 0.34       ve 0.04\n",
      "ha 0.56       as 0.33       ra 0.04\n",
      "es 0.56       te 0.27       ld 0.02\n",
      "st 0.55       et 0.19       ur 0.02'''\n",
      "bigram_freq_normal = [x.split(' ') for x in re.split(\"\\n|       \",bigram_freq_normal)]\n",
      "bigram_freq_normal = dict([[k, float(v)] for k,v in bigram_freq_normal]) # cast to float second argument\n",
      "from operator import itemgetter\n",
      "bigram_freq_normal_sorted = sorted(bigram_freq_normal.items(), key=itemgetter(1), reverse=True) #sort by frequency\n",
      "print(bigram_freq_normal_sorted)"
     ],
     "language": "python",
     "metadata": {},
     "outputs": [
      {
       "output_type": "stream",
       "stream": "stdout",
       "text": [
        "[('th', 1.52), ('he', 1.28), ('in', 0.94), ('er', 0.94), ('an', 0.82), ('re', 0.68), ('nd', 0.63), ('at', 0.59), ('on', 0.57), ('es', 0.56), ('ha', 0.56), ('nt', 0.56), ('st', 0.55), ('en', 0.55), ('ed', 0.53), ('to', 0.52), ('ou', 0.5), ('it', 0.5), ('ea', 0.47), ('hi', 0.46), ('is', 0.46), ('or', 0.43), ('ti', 0.34), ('as', 0.33), ('te', 0.27), ('et', 0.19), ('ng', 0.18), ('of', 0.16), ('al', 0.09), ('de', 0.09), ('le', 0.08), ('se', 0.08), ('sa', 0.06), ('si', 0.05), ('ar', 0.04), ('ra', 0.04), ('ve', 0.04), ('ld', 0.02), ('ur', 0.02)]\n"
       ]
      }
     ],
     "prompt_number": 99
    },
    {
     "cell_type": "code",
     "collapsed": false,
     "input": [
      "translation = dict()\n",
      "for c, (n, _) in reversed(list(zip(bigrams_freq_cypher_sorted, bigram_freq_normal_sorted))):\n",
      "    translation[c] = n\n",
      "print(translation)"
     ],
     "language": "python",
     "metadata": {},
     "outputs": [
      {
       "output_type": "stream",
       "stream": "stdout",
       "text": [
        "{'RG': 'le', 'RL': 'ea', 'ID': 'ng', 'SO': 'ra', 'VX': 'st', 'GI': 'at', 'RO': 'ur', 'UR': 'se', 'HO': 'sa', 'VL': 'on', 'IU': 're', 'EE': 'of', 'LH': 'it', 'IC': 'er', 'DI': 'ld', 'QV': 'al', 'CQ': 'hi', 'UV': 'is', 'YQ': 'et', 'WO': 'or', 'CP': 'ou', 'IR': 'in', 'LR': 'th', 'QC': 've', 'EL': 'ed', 'DJ': 'si', 'CS': 'an', 'QE': 'nt', 'IW': 'to', 'XL': 'te', 'OF': 'nd', 'CL': 'en', 'OC': 'he', 'CV': 'ar', 'LF': 'de', 'YI': 'es', 'HL': 'as', 'QF': 'ha', 'FV': 'ti'}\n"
       ]
      }
     ],
     "prompt_number": 113
    },
    {
     "cell_type": "code",
     "collapsed": false,
     "input": [],
     "language": "python",
     "metadata": {},
     "outputs": []
    }
   ],
   "metadata": {}
  }
 ]
}