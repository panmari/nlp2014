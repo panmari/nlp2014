{
 "metadata": {
  "name": ""
 },
 "nbformat": 3,
 "nbformat_minor": 0,
 "worksheets": [
  {
   "cells": [
    {
     "cell_type": "markdown",
     "metadata": {},
     "source": [
      "#Exercise 3 - Decrypting substitution cypher\n",
      "We have the following text given"
     ]
    },
    {
     "cell_type": "code",
     "collapsed": false,
     "input": [
      "cypher_text = '''ODQSOCL OW GIU BOEE QRROHOCS QV GIUR KIA QF Q DQCQSLR WIR\n",
      "ICL IW CQFQF EIYQE YIDJUVLR FGFVLDF GIU SLV OCVI GIUR\n",
      "IWWOYL IC VXQV DICPQG DIRCOCS VI WOCP VXL JXICLF ROCSOCS\n",
      "LHLRG YQEELR OF Q POFVRQUSXV YICWUFLP CQFQ BIRMLR QCP\n",
      "LHLRG YQEELR QFFURLF GIU VXQV XOF IR XLR WOEL IR\n",
      "QYYIUCVOCS RLYIRP IR RLFLQRYX JRIKLYV LHLRG ICL IW BXOYX\n",
      "OF DOFFOCS WRID VXL YIDJUVLR FGFVLD OF QAFIEUVLEG HOVQE'''"
     ],
     "language": "python",
     "metadata": {},
     "outputs": [],
     "prompt_number": 6
    },
    {
     "cell_type": "markdown",
     "metadata": {},
     "source": [
      "Since we can assume that this text is written in english, we can do some statistical analysis by using the frequencies of letters in a normal english text given by"
     ]
    },
    {
     "cell_type": "code",
     "collapsed": false,
     "input": [
      "freq_normal = '''A 8.167\n",
      "B 1.492\n",
      "C 2.782\n",
      "D 4.253\n",
      "E 12.702\n",
      "F 2.228\n",
      "G 2.015\n",
      "H 6.094\n",
      "I 6.996\n",
      "J 0.153\n",
      "K 0.772\n",
      "L 4.025\n",
      "M 2.406\n",
      "N 6.749\n",
      "O 7.507\n",
      "P 1.929\n",
      "Q 0.095\n",
      "R 5.987\n",
      "S 6.327\n",
      "T 9.056\n",
      "U 2.758\n",
      "V 0.978\n",
      "W 2.360\n",
      "X 0.150\n",
      "Y 1.974\n",
      "Z 0.074'''\n",
      "freq_normal = [x.split(' ') for x in freq_normal.split(\"\\n\")]\n",
      "freq_normal = dict([[k, float(v)] for k,v in freq_normal]) # cast to float second argument\n",
      "freq_normal_sorted = sorted(freq_normal.items(), key=itemgetter(1), reverse=True) #sort by frequency\n",
      "print(freq_normal_sorted)"
     ],
     "language": "python",
     "metadata": {},
     "outputs": [
      {
       "output_type": "stream",
       "stream": "stdout",
       "text": [
        "[('E', 12.702), ('T', 9.056), ('A', 8.167), ('O', 7.507), ('I', 6.996), ('N', 6.749), ('S', 6.327), ('H', 6.094), ('R', 5.987), ('D', 4.253), ('L', 4.025), ('C', 2.782), ('U', 2.758), ('M', 2.406), ('W', 2.36), ('F', 2.228), ('G', 2.015), ('Y', 1.974), ('P', 1.929), ('B', 1.492), ('V', 0.978), ('K', 0.772), ('J', 0.153), ('X', 0.15), ('Q', 0.095), ('Z', 0.074)]\n"
       ]
      }
     ],
     "prompt_number": 86
    },
    {
     "cell_type": "markdown",
     "metadata": {},
     "source": [
      "In a next step, we compute the frequencies of all letters in the cyphertext excluding whitespace."
     ]
    },
    {
     "cell_type": "code",
     "collapsed": false,
     "input": [
      "from collections import Counter\n",
      "import re\n",
      "freq_cypher = Counter()\n",
      "for letter in cypher_text:\n",
      "    if re.match('\\s',letter): continue\n",
      "    freq_cypher[letter] += 1\n",
      "print(freq_cypher)"
     ],
     "language": "python",
     "metadata": {},
     "outputs": [
      {
       "output_type": "stream",
       "stream": "stdout",
       "text": [
        "Counter({'L': 31, 'I': 31, 'R': 29, 'Q': 25, 'O': 23, 'F': 23, 'C': 21, 'V': 20, 'Y': 13, 'G': 12, 'U': 12, 'E': 12, 'X': 11, 'D': 10, 'W': 10, 'S': 10, 'P': 6, 'H': 5, 'J': 4, 'B': 3, 'K': 2, 'A': 2, 'M': 1})\n"
       ]
      }
     ],
     "prompt_number": 87
    },
    {
     "cell_type": "markdown",
     "metadata": {},
     "source": [
      "And then try to simply match the frequencies from the most frequent to the last frequent."
     ]
    },
    {
     "cell_type": "code",
     "collapsed": false,
     "input": [
      "freq_cypher_sorted = [x[0] for x in freq_cypher.most_common()]\n",
      "from operator import itemgetter\n",
      "#freq_cypher = dict(freq_cypher)\n",
      "decypher_dict = dict(zip(freq_cypher_sorted, [x[0] for x in freq_normal_sorted ]))\n",
      "print(decypher_dict)"
     ],
     "language": "python",
     "metadata": {},
     "outputs": [
      {
       "output_type": "stream",
       "stream": "stdout",
       "text": [
        "{'O': 'I', 'H': 'Y', 'D': 'M', 'K': 'V', 'A': 'K', 'W': 'W', 'Y': 'R', 'M': 'J', 'P': 'G', 'S': 'F', 'G': 'D', 'X': 'U', 'C': 'S', 'Q': 'O', 'L': 'E', 'R': 'A', 'U': 'L', 'F': 'N', 'J': 'P', 'B': 'B', 'E': 'C', 'V': 'H', 'I': 'T'}\n"
       ]
      }
     ],
     "prompt_number": 88
    },
    {
     "cell_type": "markdown",
     "metadata": {},
     "source": [
      "Now we have a mapping that can be used for translating the cyphertext to plaintext"
     ]
    },
    {
     "cell_type": "code",
     "collapsed": false,
     "input": [
      "plaintext = ''\n",
      "for letter in cypher_text:\n",
      "    if re.match('\\s',letter): \n",
      "        plaintext += letter\n",
      "    else:\n",
      "        plaintext += decypher_dict[letter.upper()]\n",
      "    \n",
      "print(plaintext)"
     ],
     "language": "python",
     "metadata": {},
     "outputs": [
      {
       "output_type": "stream",
       "stream": "stdout",
       "text": [
        "IMOFISE IW DTL BICC OAAIYISF OH DTLA VTK ON O MOSOFEA WTA\n",
        "TSE TW SONON CTROC RTMPLHEA NDNHEMN DTL FEH ISHT DTLA\n",
        "TWWIRE TS HUOH MTSGOD MTASISF HT WISG HUE PUTSEN AISFISF\n",
        "EYEAD ROCCEA IN O GINHAOLFUH RTSWLNEG SONO BTAJEA OSG\n",
        "EYEAD ROCCEA ONNLAEN DTL HUOH UIN TA UEA WICE TA\n",
        "ORRTLSHISF AERTAG TA AENEOARU PATVERH EYEAD TSE TW BUIRU\n",
        "IN MINNISF WATM HUE RTMPLHEA NDNHEM IN OKNTCLHECD YIHOC\n"
       ]
      }
     ],
     "prompt_number": 89
    },
    {
     "cell_type": "markdown",
     "metadata": {},
     "source": [
      "Sadly, this does not yield very good results. TODO: bigram/trigram analysis"
     ]
    },
    {
     "cell_type": "code",
     "collapsed": false,
     "input": [
      "from collections import Counter\n",
      "bigram_freq_cypher = Counter()\n",
      "for "
     ],
     "language": "python",
     "metadata": {},
     "outputs": []
    }
   ],
   "metadata": {}
  }
 ]
}